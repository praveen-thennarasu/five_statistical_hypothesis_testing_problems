{
 "cells": [
  {
   "cell_type": "code",
   "execution_count": 1,
   "id": "72c0fe60-0f56-4c40-8024-c94ed27e7096",
   "metadata": {},
   "outputs": [],
   "source": [
    "import pandas as pd\n",
    "import numpy as np\n",
    "import matplotlib.pyplot as plt\n",
    "import datetime as dt\n",
    "import scipy.stats as st"
   ]
  },
  {
   "cell_type": "code",
   "execution_count": 2,
   "id": "9f84591e-934c-4554-84ec-e5be2cd6023d",
   "metadata": {},
   "outputs": [],
   "source": [
    "loan_data = pd.read_csv(\"LoansData.csv\")"
   ]
  },
  {
   "cell_type": "code",
   "execution_count": 3,
   "id": "aad0057c-df94-4021-b1ab-49cdb8ee0f05",
   "metadata": {},
   "outputs": [
    {
     "data": {
      "text/html": [
       "<div>\n",
       "<style scoped>\n",
       "    .dataframe tbody tr th:only-of-type {\n",
       "        vertical-align: middle;\n",
       "    }\n",
       "\n",
       "    .dataframe tbody tr th {\n",
       "        vertical-align: top;\n",
       "    }\n",
       "\n",
       "    .dataframe thead th {\n",
       "        text-align: right;\n",
       "    }\n",
       "</style>\n",
       "<table border=\"1\" class=\"dataframe\">\n",
       "  <thead>\n",
       "    <tr style=\"text-align: right;\">\n",
       "      <th></th>\n",
       "      <th>Amount.Requested</th>\n",
       "      <th>Amount.Funded.By.Investors</th>\n",
       "      <th>Interest.Rate</th>\n",
       "      <th>Loan.Length</th>\n",
       "      <th>Loan.Purpose</th>\n",
       "      <th>Debt.To.Income.Ratio</th>\n",
       "      <th>State</th>\n",
       "      <th>Home.Ownership</th>\n",
       "      <th>Monthly.Income</th>\n",
       "      <th>FICO.Range</th>\n",
       "      <th>Open.CREDIT.Lines</th>\n",
       "      <th>Revolving.CREDIT.Balance</th>\n",
       "      <th>Inquiries.in.the.Last.6.Months</th>\n",
       "      <th>Employment.Length</th>\n",
       "    </tr>\n",
       "  </thead>\n",
       "  <tbody>\n",
       "    <tr>\n",
       "      <th>0</th>\n",
       "      <td>20000.0</td>\n",
       "      <td>20000.0</td>\n",
       "      <td>8.90%</td>\n",
       "      <td>36 months</td>\n",
       "      <td>debt_consolidation</td>\n",
       "      <td>14.90%</td>\n",
       "      <td>SC</td>\n",
       "      <td>MORTGAGE</td>\n",
       "      <td>6541.67</td>\n",
       "      <td>735-739</td>\n",
       "      <td>14.0</td>\n",
       "      <td>14272.0</td>\n",
       "      <td>2.0</td>\n",
       "      <td>&lt; 1 year</td>\n",
       "    </tr>\n",
       "    <tr>\n",
       "      <th>1</th>\n",
       "      <td>19200.0</td>\n",
       "      <td>19200.0</td>\n",
       "      <td>12.12%</td>\n",
       "      <td>36 months</td>\n",
       "      <td>debt_consolidation</td>\n",
       "      <td>28.36%</td>\n",
       "      <td>TX</td>\n",
       "      <td>MORTGAGE</td>\n",
       "      <td>4583.33</td>\n",
       "      <td>715-719</td>\n",
       "      <td>12.0</td>\n",
       "      <td>11140.0</td>\n",
       "      <td>1.0</td>\n",
       "      <td>2 years</td>\n",
       "    </tr>\n",
       "    <tr>\n",
       "      <th>2</th>\n",
       "      <td>35000.0</td>\n",
       "      <td>35000.0</td>\n",
       "      <td>21.98%</td>\n",
       "      <td>60 months</td>\n",
       "      <td>debt_consolidation</td>\n",
       "      <td>23.81%</td>\n",
       "      <td>CA</td>\n",
       "      <td>MORTGAGE</td>\n",
       "      <td>11500.00</td>\n",
       "      <td>690-694</td>\n",
       "      <td>14.0</td>\n",
       "      <td>21977.0</td>\n",
       "      <td>1.0</td>\n",
       "      <td>2 years</td>\n",
       "    </tr>\n",
       "    <tr>\n",
       "      <th>3</th>\n",
       "      <td>10000.0</td>\n",
       "      <td>9975.0</td>\n",
       "      <td>9.99%</td>\n",
       "      <td>36 months</td>\n",
       "      <td>debt_consolidation</td>\n",
       "      <td>14.30%</td>\n",
       "      <td>KS</td>\n",
       "      <td>MORTGAGE</td>\n",
       "      <td>3833.33</td>\n",
       "      <td>695-699</td>\n",
       "      <td>10.0</td>\n",
       "      <td>9346.0</td>\n",
       "      <td>0.0</td>\n",
       "      <td>5 years</td>\n",
       "    </tr>\n",
       "    <tr>\n",
       "      <th>4</th>\n",
       "      <td>12000.0</td>\n",
       "      <td>12000.0</td>\n",
       "      <td>11.71%</td>\n",
       "      <td>36 months</td>\n",
       "      <td>credit_card</td>\n",
       "      <td>18.78%</td>\n",
       "      <td>NJ</td>\n",
       "      <td>RENT</td>\n",
       "      <td>3195.00</td>\n",
       "      <td>695-699</td>\n",
       "      <td>11.0</td>\n",
       "      <td>14469.0</td>\n",
       "      <td>0.0</td>\n",
       "      <td>9 years</td>\n",
       "    </tr>\n",
       "  </tbody>\n",
       "</table>\n",
       "</div>"
      ],
      "text/plain": [
       "   Amount.Requested  Amount.Funded.By.Investors Interest.Rate Loan.Length  \\\n",
       "0           20000.0                     20000.0         8.90%   36 months   \n",
       "1           19200.0                     19200.0        12.12%   36 months   \n",
       "2           35000.0                     35000.0        21.98%   60 months   \n",
       "3           10000.0                      9975.0         9.99%   36 months   \n",
       "4           12000.0                     12000.0        11.71%   36 months   \n",
       "\n",
       "         Loan.Purpose Debt.To.Income.Ratio State Home.Ownership  \\\n",
       "0  debt_consolidation               14.90%    SC       MORTGAGE   \n",
       "1  debt_consolidation               28.36%    TX       MORTGAGE   \n",
       "2  debt_consolidation               23.81%    CA       MORTGAGE   \n",
       "3  debt_consolidation               14.30%    KS       MORTGAGE   \n",
       "4         credit_card               18.78%    NJ           RENT   \n",
       "\n",
       "   Monthly.Income FICO.Range  Open.CREDIT.Lines  Revolving.CREDIT.Balance  \\\n",
       "0         6541.67    735-739               14.0                   14272.0   \n",
       "1         4583.33    715-719               12.0                   11140.0   \n",
       "2        11500.00    690-694               14.0                   21977.0   \n",
       "3         3833.33    695-699               10.0                    9346.0   \n",
       "4         3195.00    695-699               11.0                   14469.0   \n",
       "\n",
       "   Inquiries.in.the.Last.6.Months Employment.Length  \n",
       "0                             2.0          < 1 year  \n",
       "1                             1.0           2 years  \n",
       "2                             1.0           2 years  \n",
       "3                             0.0           5 years  \n",
       "4                             0.0           9 years  "
      ]
     },
     "execution_count": 3,
     "metadata": {},
     "output_type": "execute_result"
    }
   ],
   "source": [
    "loan_data.head()"
   ]
  },
  {
   "cell_type": "code",
   "execution_count": 4,
   "id": "53ec3fcc-2827-488d-b9d3-342e9545dc92",
   "metadata": {},
   "outputs": [],
   "source": [
    "loan_data['Interest.Rate'] = loan_data['Interest.Rate'].str.replace(\"%\",\"\")"
   ]
  },
  {
   "cell_type": "code",
   "execution_count": 5,
   "id": "b492b565-ec6a-4b8f-9e39-7ccddfb3fb5f",
   "metadata": {},
   "outputs": [],
   "source": [
    "loan_data['Interest.Rate'] = loan_data['Interest.Rate'].astype(float)"
   ]
  },
  {
   "cell_type": "code",
   "execution_count": 12,
   "id": "91840644-5ade-44bc-a427-4c47b2519ddb",
   "metadata": {},
   "outputs": [],
   "source": [
    "loan_data['Interest.Rate'].dropna(inplace = True)"
   ]
  },
  {
   "cell_type": "code",
   "execution_count": 16,
   "id": "2880a3d4-113a-4f31-9cec-5d586cb8fb9e",
   "metadata": {},
   "outputs": [],
   "source": [
    "loan_data.dropna(inplace = True)"
   ]
  },
  {
   "cell_type": "code",
   "execution_count": 17,
   "id": "645655c0-df15-4246-8a8c-bb4509b38171",
   "metadata": {},
   "outputs": [],
   "source": [
    "correlation, p_value = st.pearsonr(loan_data['Amount.Funded.By.Investors'], loan_data['Interest.Rate'])"
   ]
  },
  {
   "cell_type": "code",
   "execution_count": 18,
   "id": "9946d4b2-f32c-43d8-aaa9-ee283d086095",
   "metadata": {},
   "outputs": [
    {
     "name": "stdout",
     "output_type": "stream",
     "text": [
      "0.3315955311036452 5.064256950495823e-63\n"
     ]
    }
   ],
   "source": [
    "print(correlation, p_value)"
   ]
  },
  {
   "cell_type": "code",
   "execution_count": 21,
   "id": "8d258548-1086-43cd-b415-60246de72cca",
   "metadata": {},
   "outputs": [],
   "source": [
    "loan_data['Loan.Length'] = loan_data['Loan.Length'].str.replace(\" months\",\"\")"
   ]
  },
  {
   "cell_type": "code",
   "execution_count": 23,
   "id": "fe669705-574c-49eb-aacf-e802d5d1f962",
   "metadata": {},
   "outputs": [],
   "source": [
    "loan_data['Loan.Length'] = loan_data['Loan.Length'].astype(int)"
   ]
  },
  {
   "cell_type": "code",
   "execution_count": 24,
   "id": "f2f66018-7365-421a-b8e4-e7a5a58999ad",
   "metadata": {},
   "outputs": [],
   "source": [
    "correlation, p_value = st.pearsonr(loan_data['Loan.Length'], loan_data['Interest.Rate'])"
   ]
  },
  {
   "cell_type": "code",
   "execution_count": 25,
   "id": "6b606f60-bba1-4c29-89d0-5606efa258ac",
   "metadata": {},
   "outputs": [
    {
     "name": "stdout",
     "output_type": "stream",
     "text": [
      "0.42505738230947654 1.793801067341337e-106\n"
     ]
    }
   ],
   "source": [
    "print(correlation, p_value)"
   ]
  },
  {
   "cell_type": "code",
   "execution_count": 26,
   "id": "23f2f696-c6d6-462e-aa63-55d3095fd7fe",
   "metadata": {},
   "outputs": [
    {
     "data": {
      "text/plain": [
       "array(['debt_consolidation', 'credit_card', 'other', 'moving', 'car',\n",
       "       'vacation', 'home_improvement', 'house', 'major_purchase',\n",
       "       'educational', 'medical', 'wedding', 'small_business',\n",
       "       'renewable_energy'], dtype=object)"
      ]
     },
     "execution_count": 26,
     "metadata": {},
     "output_type": "execute_result"
    }
   ],
   "source": [
    "loan_data['Loan.Purpose'].unique()"
   ]
  },
  {
   "cell_type": "code",
   "execution_count": 35,
   "id": "96f239ce-f3d0-4422-b004-3ad72a678758",
   "metadata": {},
   "outputs": [],
   "source": [
    " purpose_debt_consolidation = loan_data.loc[ loan_data['Loan.Purpose']==\"debt_consolidation\" ,  'Interest.Rate']"
   ]
  },
  {
   "cell_type": "code",
   "execution_count": 37,
   "id": "9c8b3e68-64a3-4bd6-b7d7-db01524ed013",
   "metadata": {},
   "outputs": [],
   "source": [
    " purpose_credit_card = loan_data.loc[ loan_data['Loan.Purpose']==\"credit_card\" ,  'Interest.Rate']"
   ]
  },
  {
   "cell_type": "code",
   "execution_count": 38,
   "id": "de5c8324-e2ac-4562-a373-c026f8585af1",
   "metadata": {},
   "outputs": [],
   "source": [
    " purpose_other = loan_data.loc[ loan_data['Loan.Purpose']==\"other\" ,  'Interest.Rate']"
   ]
  },
  {
   "cell_type": "code",
   "execution_count": 39,
   "id": "efe73eb7-403b-4a57-a505-13cd82594a4b",
   "metadata": {},
   "outputs": [],
   "source": [
    " purpose_moving = loan_data.loc[ loan_data['Loan.Purpose']==\"moving\" ,  'Interest.Rate']"
   ]
  },
  {
   "cell_type": "code",
   "execution_count": 40,
   "id": "4038483d-c52b-4020-a782-bea5662f5bc8",
   "metadata": {},
   "outputs": [],
   "source": [
    " purpose_car = loan_data.loc[ loan_data['Loan.Purpose']==\"car\" ,  'Interest.Rate']"
   ]
  },
  {
   "cell_type": "code",
   "execution_count": 41,
   "id": "fa824a58-b523-420a-b463-c030333c4941",
   "metadata": {},
   "outputs": [],
   "source": [
    " purpose_vacation = loan_data.loc[ loan_data['Loan.Purpose']==\"vacation\" ,  'Interest.Rate']"
   ]
  },
  {
   "cell_type": "code",
   "execution_count": 42,
   "id": "c22d625c-c6a6-42d5-9594-c7a97d7e7f07",
   "metadata": {},
   "outputs": [],
   "source": [
    " purpose_home_improvement = loan_data.loc[ loan_data['Loan.Purpose']==\"home_improvement\" ,  'Interest.Rate']"
   ]
  },
  {
   "cell_type": "code",
   "execution_count": 43,
   "id": "0823fe00-d248-4808-ae15-60a105c63ae1",
   "metadata": {},
   "outputs": [],
   "source": [
    " purpose_house = loan_data.loc[ loan_data['Loan.Purpose']==\"house\" ,  'Interest.Rate']"
   ]
  },
  {
   "cell_type": "code",
   "execution_count": 44,
   "id": "948599ba-3674-4ea2-afc0-d28f73e70429",
   "metadata": {},
   "outputs": [],
   "source": [
    "purpose_major_purchase = loan_data.loc[ loan_data['Loan.Purpose']==\"major_purchase\" ,  'Interest.Rate']"
   ]
  },
  {
   "cell_type": "code",
   "execution_count": 45,
   "id": "ac2d3ccc-1f4d-4447-8213-9c47c92490e6",
   "metadata": {},
   "outputs": [],
   "source": [
    "purpose_educational = loan_data.loc[ loan_data['Loan.Purpose']==\"educational\" ,  'Interest.Rate']"
   ]
  },
  {
   "cell_type": "code",
   "execution_count": 46,
   "id": "5b7a065d-c5be-4853-9d0d-b4f5b0d8ece4",
   "metadata": {},
   "outputs": [],
   "source": [
    "purpose_medical = loan_data.loc[ loan_data['Loan.Purpose']==\"medical\" ,  'Interest.Rate']"
   ]
  },
  {
   "cell_type": "code",
   "execution_count": 47,
   "id": "af9a931b-c70a-4018-a89c-7c30348967ab",
   "metadata": {},
   "outputs": [],
   "source": [
    "purpose_wedding = loan_data.loc[ loan_data['Loan.Purpose']==\"wedding\" ,  'Interest.Rate']"
   ]
  },
  {
   "cell_type": "code",
   "execution_count": 48,
   "id": "059f2ca2-e507-451b-ab9d-43bc2fc2bbc1",
   "metadata": {},
   "outputs": [],
   "source": [
    "purpose_small_business = loan_data.loc[ loan_data['Loan.Purpose']==\"small_business\" ,  'Interest.Rate']"
   ]
  },
  {
   "cell_type": "code",
   "execution_count": 49,
   "id": "0d85f7f6-ba2f-4143-b34f-2d53df848fce",
   "metadata": {},
   "outputs": [],
   "source": [
    "purpose_renewable_energy = loan_data.loc[ loan_data['Loan.Purpose']==\"renewable_energy\" ,  'Interest.Rate']"
   ]
  },
  {
   "cell_type": "code",
   "execution_count": 51,
   "id": "348e1fc1-82f4-4a15-86f4-cc14e5616ef2",
   "metadata": {},
   "outputs": [],
   "source": [
    "f_stats, p_value = st.f_oneway(purpose_debt_consolidation, purpose_credit_card, purpose_other, purpose_moving, purpose_car, purpose_vacation, purpose_home_improvement, purpose_house, purpose_major_purchase, purpose_educational, purpose_medical, purpose_wedding, purpose_small_business, purpose_renewable_energy)"
   ]
  },
  {
   "cell_type": "code",
   "execution_count": 52,
   "id": "5858aed5-cf09-441c-9129-068809c3a4af",
   "metadata": {},
   "outputs": [
    {
     "name": "stdout",
     "output_type": "stream",
     "text": [
      "7.330838185919651 2.7646672581411367e-14\n"
     ]
    }
   ],
   "source": [
    "print(f_stats, p_value)"
   ]
  },
  {
   "cell_type": "code",
   "execution_count": 57,
   "id": "7d32515c-b3c3-479a-844e-b4cdfd2a2f29",
   "metadata": {},
   "outputs": [],
   "source": [
    "contingency_table = pd.crosstab(loan_data['Home.Ownership'],loan_data['FICO.Range'])"
   ]
  },
  {
   "cell_type": "code",
   "execution_count": 58,
   "id": "f1e5d2eb-f3e5-41e8-abbf-ddcfa87b580f",
   "metadata": {},
   "outputs": [],
   "source": [
    "chi2_stat, p_value, dof, expected = st.chi2_contingency(contingency_table)"
   ]
  },
  {
   "cell_type": "code",
   "execution_count": 60,
   "id": "e307c5ec-468a-43fc-b3f0-94e8bd9e7cf3",
   "metadata": {},
   "outputs": [
    {
     "name": "stdout",
     "output_type": "stream",
     "text": [
      "269.7881202757334 3.0875472813837764e-15 111\n"
     ]
    }
   ],
   "source": [
    "print(chi2_stat, p_value, dof)"
   ]
  },
  {
   "cell_type": "code",
   "execution_count": 61,
   "id": "9d23dd5b-eaf6-4779-9986-94f5fed3a2f1",
   "metadata": {},
   "outputs": [
    {
     "name": "stdout",
     "output_type": "stream",
     "text": [
      "[[2.29796933e+00 1.37878160e+00 4.59593867e-01 1.83837547e+00\n",
      "  5.42320763e+01 6.34239536e+01 7.67521757e+01 7.39946125e+01\n",
      "  7.21562370e+01 5.88280149e+01 6.20451720e+01 6.71007045e+01\n",
      "  5.69896395e+01 6.02067965e+01 4.91765437e+01 4.22826357e+01\n",
      "  4.96361376e+01 4.18230419e+01 4.32018235e+01 2.98736013e+01\n",
      "  2.29796933e+01 2.48180688e+01 2.75756320e+01 2.02221301e+01\n",
      "  2.06817240e+01 1.47070037e+01 7.81309573e+00 1.01110651e+01\n",
      "  1.19494405e+01 7.81309573e+00 9.19187733e+00 5.97472027e+00\n",
      "  5.51512640e+00 5.05553253e+00 3.67675093e+00 2.29796933e+00\n",
      "  4.59593867e-01 4.59593867e-01]\n",
      " [1.03605470e-02 6.21632822e-03 2.07210941e-03 8.28843763e-03\n",
      "  2.44508910e-01 2.85951098e-01 3.46042271e-01 3.33609615e-01\n",
      "  3.25321177e-01 2.65230004e-01 2.79734770e-01 3.02527973e-01\n",
      "  2.56941567e-01 2.71446332e-01 2.21715707e-01 1.90634065e-01\n",
      "  2.23787816e-01 1.88561956e-01 1.94778284e-01 1.34687111e-01\n",
      "  1.03605470e-01 1.11893908e-01 1.24326564e-01 9.11728139e-02\n",
      "  9.32449233e-02 6.63075010e-02 3.52258599e-02 4.55864070e-02\n",
      "  5.38748446e-02 3.52258599e-02 4.14421881e-02 2.69374223e-02\n",
      "  2.48653129e-02 2.27932035e-02 1.65768753e-02 1.03605470e-02\n",
      "  2.07210941e-03 2.07210941e-03]\n",
      " [3.91628678e-01 2.34977207e-01 7.83257356e-02 3.13302942e-01\n",
      "  9.24243680e+00 1.08089515e+01 1.30803978e+01 1.26104434e+01\n",
      "  1.22971405e+01 1.00256942e+01 1.05739743e+01 1.14355574e+01\n",
      "  9.71239121e+00 1.02606714e+01 8.38085371e+00 7.20596768e+00\n",
      "  8.45917944e+00 7.12764194e+00 7.36261915e+00 5.09117281e+00\n",
      "  3.91628678e+00 4.22958972e+00 4.69954414e+00 3.44633237e+00\n",
      "  3.52465810e+00 2.50642354e+00 1.33153751e+00 1.72316618e+00\n",
      "  2.03646913e+00 1.33153751e+00 1.56651471e+00 1.01823456e+00\n",
      "  9.39908827e-01 8.61583092e-01 6.26605885e-01 3.91628678e-01\n",
      "  7.83257356e-02 7.83257356e-02]\n",
      " [2.30004144e+00 1.38002487e+00 4.60008288e-01 1.84003315e+00\n",
      "  5.42809780e+01 6.34811438e+01 7.68213842e+01 7.40613344e+01\n",
      "  7.22213013e+01 5.88810609e+01 6.21011189e+01 6.71612101e+01\n",
      "  5.70410278e+01 6.02610858e+01 4.92208869e+01 4.23207625e+01\n",
      "  4.96808952e+01 4.18607542e+01 4.32407791e+01 2.99005387e+01\n",
      "  2.30004144e+01 2.48404476e+01 2.76004973e+01 2.02403647e+01\n",
      "  2.07003730e+01 1.47202652e+01 7.82014090e+00 1.01201823e+01\n",
      "  1.19602155e+01 7.82014090e+00 9.20016577e+00 5.98010775e+00\n",
      "  5.52009946e+00 5.06009117e+00 3.68006631e+00 2.30004144e+00\n",
      "  4.60008288e-01 4.60008288e-01]]\n"
     ]
    }
   ],
   "source": [
    "print(expected)"
   ]
  },
  {
   "cell_type": "code",
   "execution_count": 62,
   "id": "c0a978a1-cb02-4e61-8c05-a43983f56dcc",
   "metadata": {},
   "outputs": [],
   "source": [
    "price_quotes = pd.read_csv(\"Price_Quotes.csv\")"
   ]
  },
  {
   "cell_type": "code",
   "execution_count": 64,
   "id": "7370e710-a3c2-4ddf-82db-fa0c230cf6d1",
   "metadata": {},
   "outputs": [
    {
     "name": "stdout",
     "output_type": "stream",
     "text": [
      "<class 'pandas.core.frame.DataFrame'>\n",
      "RangeIndex: 12 entries, 0 to 11\n",
      "Data columns (total 3 columns):\n",
      " #   Column        Non-Null Count  Dtype\n",
      "---  ------        --------------  -----\n",
      " 0   Order_Number  12 non-null     int64\n",
      " 1   Barry_Price   12 non-null     int64\n",
      " 2   Mary_Price    12 non-null     int64\n",
      "dtypes: int64(3)\n",
      "memory usage: 420.0 bytes\n"
     ]
    }
   ],
   "source": [
    "price_quotes.info()"
   ]
  },
  {
   "cell_type": "code",
   "execution_count": 68,
   "id": "4459fb72-960a-4493-902c-620b0577fa5e",
   "metadata": {},
   "outputs": [],
   "source": [
    "t_stat, p_value = st.ttest_rel(price_quotes['Barry_Price'],price_quotes['Mary_Price'])"
   ]
  },
  {
   "cell_type": "code",
   "execution_count": 69,
   "id": "0bb7e411-5428-4d29-adb8-e719e582c6ec",
   "metadata": {},
   "outputs": [
    {
     "name": "stdout",
     "output_type": "stream",
     "text": [
      "2.5213765108923494 0.02840588045242053\n"
     ]
    }
   ],
   "source": [
    "print(t_stat, p_value)"
   ]
  },
  {
   "cell_type": "code",
   "execution_count": null,
   "id": "edc66a36-6455-4903-9ba6-e182a899c0ca",
   "metadata": {},
   "outputs": [],
   "source": []
  }
 ],
 "metadata": {
  "kernelspec": {
   "display_name": "Python 3 (ipykernel)",
   "language": "python",
   "name": "python3"
  },
  "language_info": {
   "codemirror_mode": {
    "name": "ipython",
    "version": 3
   },
   "file_extension": ".py",
   "mimetype": "text/x-python",
   "name": "python",
   "nbconvert_exporter": "python",
   "pygments_lexer": "ipython3",
   "version": "3.12.4"
  }
 },
 "nbformat": 4,
 "nbformat_minor": 5
}
