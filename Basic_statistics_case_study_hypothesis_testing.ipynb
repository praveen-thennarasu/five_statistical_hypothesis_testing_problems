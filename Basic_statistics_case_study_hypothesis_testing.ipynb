{
 "cells": [
  {
   "cell_type": "markdown",
   "metadata": {
    "id": "ZyKSgWdS8R6C"
   },
   "source": [
    "Business problem 1\n",
    "a. Intrest rate is varied for different loan amounts (Less intrest charged for high loan\n",
    "amounts)"
   ]
  },
  {
   "cell_type": "code",
   "execution_count": 1,
   "metadata": {
    "colab": {
     "base_uri": "https://localhost:8080/"
    },
    "executionInfo": {
     "elapsed": 3618,
     "status": "ok",
     "timestamp": 1724662810210,
     "user": {
      "displayName": "Praveen Thennarasu",
      "userId": "17084518208793972242"
     },
     "user_tz": -330
    },
    "id": "rVi7xYnW4-Km",
    "outputId": "ee17d158-369b-4ced-bb20-5dbed577629c"
   },
   "outputs": [
    {
     "name": "stdout",
     "output_type": "stream",
     "text": [
      "ANOVA F-statistic: 136.91826561303418, p-value: 3.7984727569262646e-57\n",
      "Reject the null hypothesis: Interest rate varies for different loan amounts.\n"
     ]
    }
   ],
   "source": [
    "import pandas as pd\n",
    "from scipy import stats\n",
    "\n",
    "# Load the dataset\n",
    "data = pd.read_csv('LoansData.csv')\n",
    "\n",
    "# Convert interest rate to numeric\n",
    "data['Interest.Rate'] = data['Interest.Rate'].str.rstrip('%').astype('float')\n",
    "\n",
    "# Create bins for loan amounts (for example: low, medium, high)\n",
    "bins = [0, 10000, 20000, 35000]  # Adjust these bins as necessary\n",
    "labels = ['Low', 'Medium', 'High']\n",
    "data['LoanAmountCategory'] = pd.cut(data['Amount.Requested'], bins=bins, labels=labels)\n",
    "\n",
    "# Perform ANOVA test\n",
    "anova_results = stats.f_oneway(\n",
    "    data[data['LoanAmountCategory'] == 'Low']['Interest.Rate'].dropna(),\n",
    "    data[data['LoanAmountCategory'] == 'Medium']['Interest.Rate'].dropna(),\n",
    "    data[data['LoanAmountCategory'] == 'High']['Interest.Rate'].dropna()\n",
    ")\n",
    "\n",
    "# Print the results\n",
    "print(f'ANOVA F-statistic: {anova_results.statistic}, p-value: {anova_results.pvalue}')\n",
    "\n",
    "# Interpretation of p-value\n",
    "if anova_results.pvalue < 0.05:\n",
    "    print(\"Reject the null hypothesis: Interest rate varies for different loan amounts.\")\n",
    "else:\n",
    "    print(\"Fail to reject the null hypothesis: No significant difference in interest rates for different loan amounts.\")\n"
   ]
  },
  {
   "cell_type": "markdown",
   "metadata": {
    "id": "HJzIanNN8f_n"
   },
   "source": [
    "Business problem 1 b. Loan length is directly effecting intrest rate."
   ]
  },
  {
   "cell_type": "code",
   "execution_count": 2,
   "metadata": {
    "colab": {
     "base_uri": "https://localhost:8080/"
    },
    "executionInfo": {
     "elapsed": 446,
     "status": "ok",
     "timestamp": 1724662920816,
     "user": {
      "displayName": "Praveen Thennarasu",
      "userId": "17084518208793972242"
     },
     "user_tz": -330
    },
    "id": "9H2qO-Z-6fHp",
    "outputId": "fa406339-d255-44c1-d52d-60da30fb97e7"
   },
   "outputs": [
    {
     "name": "stdout",
     "output_type": "stream",
     "text": [
      "ANOVA F-statistic: 547.7623939093271, p-value: 1.0952664487989141e-109\n",
      "Reject the null hypothesis: Loan length directly affects the interest rate.\n"
     ]
    }
   ],
   "source": [
    "import pandas as pd\n",
    "from scipy import stats\n",
    "\n",
    "# Load the dataset\n",
    "data = pd.read_csv('LoansData.csv')\n",
    "\n",
    "# Convert interest rate to numeric\n",
    "data['Interest.Rate'] = data['Interest.Rate'].str.rstrip('%').astype('float')\n",
    "\n",
    "# Perform ANOVA test based on Loan Length\n",
    "anova_results = stats.f_oneway(\n",
    "    data[data['Loan.Length'] == '36 months']['Interest.Rate'].dropna(),\n",
    "    data[data['Loan.Length'] == '60 months']['Interest.Rate'].dropna()\n",
    ")\n",
    "\n",
    "# Print the results\n",
    "print(f'ANOVA F-statistic: {anova_results.statistic}, p-value: {anova_results.pvalue}')\n",
    "\n",
    "# Interpretation of p-value\n",
    "if anova_results.pvalue < 0.05:\n",
    "    print(\"Reject the null hypothesis: Loan length directly affects the interest rate.\")\n",
    "else:\n",
    "    print(\"Fail to reject the null hypothesis: Loan length does not significantly affect the interest rate.\")\n"
   ]
  },
  {
   "cell_type": "markdown",
   "metadata": {
    "id": "SKn8JSSi8ohd"
   },
   "source": [
    "Business problem - 1 c. Inrest rate varies for different purpose of loans"
   ]
  },
  {
   "cell_type": "code",
   "execution_count": 3,
   "metadata": {
    "colab": {
     "base_uri": "https://localhost:8080/"
    },
    "executionInfo": {
     "elapsed": 416,
     "status": "ok",
     "timestamp": 1724662933998,
     "user": {
      "displayName": "Praveen Thennarasu",
      "userId": "17084518208793972242"
     },
     "user_tz": -330
    },
    "id": "ZGNGzMKn67LX",
    "outputId": "879781d1-9e0c-4de9-e069-648f7ad18023"
   },
   "outputs": [
    {
     "name": "stdout",
     "output_type": "stream",
     "text": [
      "ANOVA F-statistic: 7.481404351302254, p-value: 1.1686298123677374e-14\n",
      "Reject the null hypothesis: Interest rate varies for different purposes of loans.\n"
     ]
    }
   ],
   "source": [
    "import pandas as pd\n",
    "from scipy import stats\n",
    "\n",
    "# Load the dataset\n",
    "data = pd.read_csv('LoansData.csv')\n",
    "\n",
    "# Convert interest rate to numeric\n",
    "data['Interest.Rate'] = data['Interest.Rate'].str.rstrip('%').astype('float')\n",
    "\n",
    "# Perform ANOVA test based on Loan Purpose\n",
    "loan_purposes = data['Loan.Purpose'].unique()\n",
    "interest_rates = [data[data['Loan.Purpose'] == purpose]['Interest.Rate'].dropna() for purpose in loan_purposes]\n",
    "\n",
    "anova_results = stats.f_oneway(*interest_rates)\n",
    "\n",
    "# Print the results\n",
    "print(f'ANOVA F-statistic: {anova_results.statistic}, p-value: {anova_results.pvalue}')\n",
    "\n",
    "# Interpretation of p-value\n",
    "if anova_results.pvalue < 0.05:\n",
    "    print(\"Reject the null hypothesis: Interest rate varies for different purposes of loans.\")\n",
    "else:\n",
    "    print(\"Fail to reject the null hypothesis: No significant difference in interest rates for different loan purposes.\")\n"
   ]
  },
  {
   "cell_type": "markdown",
   "metadata": {
    "id": "C6ziTWHw8tSV"
   },
   "source": [
    "Business problem 1 d. There is relationship between FICO scores and Home Ownership. It means that, People\n",
    "with owning home will have high FICO scores."
   ]
  },
  {
   "cell_type": "code",
   "execution_count": 4,
   "metadata": {
    "colab": {
     "base_uri": "https://localhost:8080/"
    },
    "executionInfo": {
     "elapsed": 450,
     "status": "ok",
     "timestamp": 1724662950555,
     "user": {
      "displayName": "Praveen Thennarasu",
      "userId": "17084518208793972242"
     },
     "user_tz": -330
    },
    "id": "PmZDC_5Z6-Wk",
    "outputId": "2ae8c221-4a1b-4454-ac52-7d79c0dfe8fc"
   },
   "outputs": [
    {
     "name": "stdout",
     "output_type": "stream",
     "text": [
      "Chi-Square statistic: 473.05246368346025, p-value: 1.2021592010244615e-35\n",
      "Reject the null hypothesis: There is a relationship between FICO scores and home ownership.\n"
     ]
    }
   ],
   "source": [
    "import pandas as pd\n",
    "from scipy.stats import chi2_contingency\n",
    "\n",
    "# Load the dataset\n",
    "data = pd.read_csv('LoansData.csv')\n",
    "\n",
    "# Create a contingency table between FICO range and Home Ownership\n",
    "contingency_table = pd.crosstab(data['FICO.Range'], data['Home.Ownership'])\n",
    "\n",
    "# Perform Chi-Square test\n",
    "chi2, p, dof, expected = chi2_contingency(contingency_table)\n",
    "\n",
    "# Print the results\n",
    "print(f'Chi-Square statistic: {chi2}, p-value: {p}')\n",
    "\n",
    "# Interpretation of p-value\n",
    "if p < 0.05:\n",
    "    print(\"Reject the null hypothesis: There is a relationship between FICO scores and home ownership.\")\n",
    "else:\n",
    "    print(\"Fail to reject the null hypothesis: No significant relationship between FICO scores and home ownership.\")\n"
   ]
  },
  {
   "cell_type": "markdown",
   "metadata": {
    "id": "ShXwTsn39Y8q"
   },
   "source": [
    "BUSINESS PROBLEM 2: We would like to assess if there is any difference in the average\n",
    "price quotes provided by Mary and Barry."
   ]
  },
  {
   "cell_type": "code",
   "execution_count": 5,
   "metadata": {
    "colab": {
     "base_uri": "https://localhost:8080/"
    },
    "executionInfo": {
     "elapsed": 446,
     "status": "ok",
     "timestamp": 1724663544486,
     "user": {
      "displayName": "Praveen Thennarasu",
      "userId": "17084518208793972242"
     },
     "user_tz": -330
    },
    "id": "or2b9Eav7CYy",
    "outputId": "1025c160-90c9-41e9-8c4d-402cc28c552b"
   },
   "outputs": [
    {
     "name": "stdout",
     "output_type": "stream",
     "text": [
      "Paired t-test statistic: 2.5213765108923494, p-value: 0.02840588045242053\n",
      "Reject the null hypothesis: There is a significant difference in the average price quotes provided by Mary and Barry.\n"
     ]
    }
   ],
   "source": [
    "import pandas as pd\n",
    "from scipy import stats\n",
    "\n",
    "# Load the dataset\n",
    "data = pd.read_csv('Price_Quotes.csv')\n",
    "\n",
    "# Perform a paired t-test\n",
    "t_statistic, p_value = stats.ttest_rel(data['Barry_Price'], data['Mary_Price'])\n",
    "\n",
    "# Print the results\n",
    "print(f'Paired t-test statistic: {t_statistic}, p-value: {p_value}')\n",
    "\n",
    "# Interpretation of p-value\n",
    "if p_value < 0.05:\n",
    "    print(\"Reject the null hypothesis: There is a significant difference in the average price quotes provided by Mary and Barry.\")\n",
    "else:\n",
    "    print(\"Fail to reject the null hypothesis: There is no significant difference in the average price quotes provided by Mary and Barry.\")\n"
   ]
  },
  {
   "cell_type": "markdown",
   "metadata": {
    "id": "xlhQb5EeA5_b"
   },
   "source": [
    "BUSINESS PROBLEM 3: Determine what effect, if any, the reengineering effort had on the\n",
    "incidence behavioral problems and staff turnover. i.e To determine if the reengineering effort\n",
    "changed the critical incidence rate. Is there evidence that the critical incidence rate\n",
    "improved?"
   ]
  },
  {
   "cell_type": "code",
   "execution_count": 6,
   "metadata": {
    "colab": {
     "base_uri": "https://localhost:8080/",
     "height": 628
    },
    "executionInfo": {
     "elapsed": 2663,
     "status": "ok",
     "timestamp": 1724664420492,
     "user": {
      "displayName": "Praveen Thennarasu",
      "userId": "17084518208793972242"
     },
     "user_tz": -330
    },
    "id": "JX5tUiqf9TZH",
    "outputId": "da452523-c9be-448c-957a-92195756fd8e"
   },
   "outputs": [
    {
     "data": {
      "image/png": "[encoded data removed]",
      "text/plain": [
       "<Figure size 640x480 with 1 Axes>"
      ]
     },
     "metadata": {},
     "output_type": "display_data"
    },
    {
     "name": "stdout",
     "output_type": "stream",
     "text": [
      "Employee Turnover - t-statistic: -1.770306704753604, p-value: 0.09361109345535304\n",
      "Fail to reject the null hypothesis: There is no significant difference in Employee Turnover between Prior and Post reengineering periods.\n",
      "\n",
      "TRFF (%) - t-statistic: 2.783398448880451, p-value: 0.012265082138734354\n",
      "Reject the null hypothesis: There is a significant difference in TRFF (%) between Prior and Post reengineering periods.\n",
      "\n",
      "CI (%) - t-statistic: 1.627914425352865, p-value: 0.12091989189884148\n",
      "Fail to reject the null hypothesis: There is no significant difference in CI (%) between Prior and Post reengineering periods.\n",
      "\n"
     ]
    }
   ],
   "source": [
    "import pandas as pd\n",
    "from scipy import stats\n",
    "import matplotlib.pyplot as plt\n",
    "import seaborn as sns\n",
    "\n",
    "# Load the dataset\n",
    "data = pd.read_csv('Treatment_Facility.csv')\n",
    "\n",
    "# Renaming columns for clarity\n",
    "data.columns = ['Month', 'Reengineer', 'Employee_Turnover', 'TRFF', 'CI']\n",
    "\n",
    "# Separate data into Prior and Post reengineering\n",
    "prior_data = data[data['Reengineer'] == 'Prior']\n",
    "post_data = data[data['Reengineer'] == 'Post']\n",
    "\n",
    "# Function to perform and print t-test results\n",
    "def perform_t_test(prior, post, variable_name):\n",
    "    t_statistic, p_value = stats.ttest_ind(prior, post)\n",
    "    print(f'{variable_name} - t-statistic: {t_statistic}, p-value: {p_value}')\n",
    "    if p_value < 0.05:\n",
    "        print(f\"Reject the null hypothesis: There is a significant difference in {variable_name} between Prior and Post reengineering periods.\\n\")\n",
    "    else:\n",
    "        print(f\"Fail to reject the null hypothesis: There is no significant difference in {variable_name} between Prior and Post reengineering periods.\\n\")\n",
    "\n",
    "# Check normality of the data (optional step)\n",
    "sns.histplot(prior_data['Employee_Turnover'], kde=True, color='blue', label='Prior')\n",
    "sns.histplot(post_data['Employee_Turnover'], kde=True, color='red', label='Post')\n",
    "plt.legend()\n",
    "plt.title('Distribution of Employee Turnover Before and After Reengineering')\n",
    "plt.show()\n",
    "\n",
    "# Perform t-tests\n",
    "perform_t_test(prior_data['Employee_Turnover'], post_data['Employee_Turnover'], 'Employee Turnover')\n",
    "perform_t_test(prior_data['TRFF'], post_data['TRFF'], 'TRFF (%)')\n",
    "perform_t_test(prior_data['CI'], post_data['CI'], 'CI (%)')\n"
   ]
  },
  {
   "cell_type": "markdown",
   "metadata": {
    "id": "-DC32pWWCtx_"
   },
   "source": [
    "BUSINESS PROBLEM 4: We will focus on the prioritization system. If the system is working, then\n",
    "high priority jobs, on average, should be completed more quickly than medium priority jobs,\n",
    "and medium priority jobs should be completed more quickly than low priority jobs. Use the\n",
    "data provided to determine whether this is, in fact, occurring."
   ]
  },
  {
   "cell_type": "code",
   "execution_count": 7,
   "metadata": {
    "colab": {
     "base_uri": "https://localhost:8080/",
     "height": 750
    },
    "executionInfo": {
     "elapsed": 4184,
     "status": "ok",
     "timestamp": 1724664748037,
     "user": {
      "displayName": "Praveen Thennarasu",
      "userId": "17084518208793972242"
     },
     "user_tz": -330
    },
    "id": "JRYo7z0EAouS",
    "outputId": "419700ce-0d72-4cf0-ad17-b5d48c326cea"
   },
   "outputs": [
    {
     "data": {
      "image/png": "[encoded data removed]",
      "text/plain": [
       "<Figure size 640x480 with 1 Axes>"
      ]
     },
     "metadata": {},
     "output_type": "display_data"
    },
    {
     "name": "stdout",
     "output_type": "stream",
     "text": [
      "          count      mean       std  min  25%  50%    75%   max\n",
      "Priority                                                       \n",
      "High      326.0  3.023620  7.781368  0.1  0.2  0.6  2.475  72.9\n",
      "Low        67.0  4.228358  6.269450  0.1  0.3  1.2  6.150  28.5\n",
      "Medium    249.0  2.500000  5.011664  0.1  0.2  0.5  2.200  33.2\n",
      "                   sum_sq     df         F    PR(>F)\n",
      "C(Priority)    161.671780    2.0  1.812311  0.164115\n",
      "Residual     28501.804248  639.0       NaN       NaN\n",
      "Multiple Comparison of Means - Tukey HSD, FWER=0.05\n",
      "===================================================\n",
      "group1 group2 meandiff p-adj   lower  upper  reject\n",
      "---------------------------------------------------\n",
      "  High    Low   1.2047 0.3709 -0.8998 3.3093  False\n",
      "  High Medium  -0.5236 0.6205 -1.8441 0.7968  False\n",
      "   Low Medium  -1.7284 0.1452 -3.8876 0.4309  False\n",
      "---------------------------------------------------\n"
     ]
    }
   ],
   "source": [
    "import pandas as pd\n",
    "import seaborn as sns\n",
    "import matplotlib.pyplot as plt\n",
    "from scipy import stats\n",
    "import statsmodels.api as sm\n",
    "from statsmodels.formula.api import ols\n",
    "from statsmodels.stats.multicomp import pairwise_tukeyhsd\n",
    "\n",
    "# Load the dataset\n",
    "data = pd.read_csv('Priority_Assessment.csv')\n",
    "\n",
    "# Visualize the data\n",
    "sns.boxplot(x='Priority', y='Days', data=data)\n",
    "plt.title('Distribution of Job Completion Time by Priority')\n",
    "plt.show()\n",
    "\n",
    "# Descriptive Statistics\n",
    "priority_stats = data.groupby('Priority')['Days'].describe()\n",
    "print(priority_stats)\n",
    "\n",
    "# ANOVA test\n",
    "model = ols('Days ~ C(Priority)', data=data).fit()\n",
    "anova_table = sm.stats.anova_lm(model, typ=2)\n",
    "print(anova_table)\n",
    "\n",
    "# Post-hoc test (Tukey's HSD)\n",
    "tukey = pairwise_tukeyhsd(endog=data['Days'], groups=data['Priority'], alpha=0.05)\n",
    "print(tukey)\n"
   ]
  },
  {
   "cell_type": "markdown",
   "metadata": {
    "id": "Y_757JeLKuYv"
   },
   "source": [
    "BUSINESS PROBLEM 5: Use the survey results to address the following questions\n",
    " What is the overall level of customer satisfaction?\n",
    " What factors are linked to satisfaction?\n",
    " What is the demographic profile of Film on the Rocks patrons?\n",
    " In what media outlet(s) should the film series be advertised?"
   ]
  },
  {
   "cell_type": "code",
   "execution_count": 9,
   "metadata": {
    "colab": {
     "base_uri": "https://localhost:8080/",
     "height": 1000
    },
    "executionInfo": {
     "elapsed": 2187,
     "status": "ok",
     "timestamp": 1724666756028,
     "user": {
      "displayName": "Praveen Thennarasu",
      "userId": "17084518208793972242"
     },
     "user_tz": -330
    },
    "id": "EhYS5R3ZB4R6",
    "outputId": "393d6a0a-608f-4baf-8716-5ad9d36a254b"
   },
   "outputs": [
    {
     "name": "stdout",
     "output_type": "stream",
     "text": [
      "Missing values in each column:\n",
      " _rowstate_          0\n",
      "Movie               0\n",
      "Gender            330\n",
      "Marital_Status    330\n",
      "Sinage              2\n",
      "Parking             2\n",
      "Clean               3\n",
      "Overall             2\n",
      "Age                 2\n",
      "Income             16\n",
      "Hear_About          7\n",
      "dtype: int64\n",
      "           Sinage     Parking       Clean     Overall\n",
      "count  325.000000  325.000000  325.000000  325.000000\n",
      "mean     1.876923    1.763077    1.683077    1.618462\n",
      "std      0.829764    0.798836    0.729360    0.690967\n",
      "min      1.000000    1.000000    1.000000    1.000000\n",
      "25%      1.000000    1.000000    1.000000    1.000000\n",
      "50%      2.000000    2.000000    2.000000    2.000000\n",
      "75%      2.000000    2.000000    2.000000    2.000000\n",
      "max      5.000000    5.000000    5.000000    5.000000\n",
      "Correlation Matrix:\n",
      "           Sinage   Parking     Clean   Overall\n",
      "Sinage   1.000000  0.477380  0.348438  0.380801\n",
      "Parking  0.477380  1.000000  0.442839  0.517907\n",
      "Clean    0.348438  0.442839  1.000000  0.347257\n",
      "Overall  0.380801  0.517907  0.347257  1.000000\n"
     ]
    },
    {
     "name": "stderr",
     "output_type": "stream",
     "text": [
      "<ipython-input-9-32ffe92bf98d>:24: SettingWithCopyWarning: \n",
      "A value is trying to be set on a copy of a slice from a DataFrame.\n",
      "Try using .loc[row_indexer,col_indexer] = value instead\n",
      "\n",
      "See the caveats in the documentation: https://pandas.pydata.org/pandas-docs/stable/user_guide/indexing.html#returning-a-view-versus-a-copy\n",
      "  data_cleaned[satisfaction_columns] = data_cleaned[satisfaction_columns].astype(float)\n"
     ]
    },
    {
     "data": {
      "image/png": "[encoded data removed]",
      "text/plain": [
       "<Figure size 640x480 with 2 Axes>"
      ]
     },
     "metadata": {},
     "output_type": "display_data"
    }
   ],
   "source": [
    "import pandas as pd\n",
    "import seaborn as sns\n",
    "import matplotlib.pyplot as plt\n",
    "import numpy as np\n",
    "\n",
    "# Load the dataset\n",
    "data = pd.read_csv('Films.csv')\n",
    "\n",
    "# Clean and preprocess the data\n",
    "data['Gender'] = data['Gender'].map({1: 'Male', 2: 'Female'})\n",
    "data['Marital_Status'] = data['Marital_Status'].map({1: 'Married', 2: 'Single'})\n",
    "data['Age'] = data['Age'].map({1: '1-12', 2: '13-30', 3: '31-60', 4: '60+'})\n",
    "data['Income'] = data['Income'].map({1: 'Less than $50,000', 2: '$50,000-$100,000', 3: '$100,000+'})\n",
    "\n",
    "# Check for missing values\n",
    "missing_values = data.isnull().sum()\n",
    "print(\"Missing values in each column:\\n\", missing_values)\n",
    "\n",
    "# Drop rows with missing values in the satisfaction columns\n",
    "data_cleaned = data.dropna(subset=['Sinage', 'Parking', 'Clean', 'Overall'])\n",
    "\n",
    "# Ensure that the data types are appropriate for correlation\n",
    "satisfaction_columns = ['Sinage', 'Parking', 'Clean', 'Overall']\n",
    "data_cleaned[satisfaction_columns] = data_cleaned[satisfaction_columns].astype(float)\n",
    "\n",
    "# Descriptive statistics for satisfaction\n",
    "satisfaction_summary = data_cleaned[satisfaction_columns].describe()\n",
    "print(satisfaction_summary)\n",
    "\n",
    "# Correlation analysis\n",
    "correlation_matrix = data_cleaned[satisfaction_columns].corr()\n",
    "print(\"Correlation Matrix:\")\n",
    "print(correlation_matrix)\n",
    "\n",
    "# Visualize the correlations\n",
    "sns.heatmap(correlation_matrix, annot=True, cmap='coolwarm', vmin=-1, vmax=1)\n",
    "plt.title('Correlation Matrix')\n",
    "plt.show()\n"
   ]
  },
  {
   "cell_type": "code",
   "execution_count": 10,
   "metadata": {
    "colab": {
     "base_uri": "https://localhost:8080/"
    },
    "executionInfo": {
     "elapsed": 428,
     "status": "ok",
     "timestamp": 1724667206111,
     "user": {
      "displayName": "Praveen Thennarasu",
      "userId": "17084518208793972242"
     },
     "user_tz": -330
    },
    "id": "5TUZc5unDwGy",
    "outputId": "d0b1d933-d4e5-45b5-fa4e-f583bd8f70b6"
   },
   "outputs": [
    {
     "name": "stdout",
     "output_type": "stream",
     "text": [
      "Mean Overall Satisfaction Score: 1.6184615384615384\n",
      "Overall Satisfaction Distribution:\n",
      " Overall\n",
      "2.0    48.615385\n",
      "1.0    46.153846\n",
      "3.0     3.692308\n",
      "5.0     1.230769\n",
      "4.0     0.307692\n",
      "Name: proportion, dtype: float64\n"
     ]
    }
   ],
   "source": [
    "overall_satisfaction = data_cleaned['Overall'].mean()\n",
    "overall_satisfaction_distribution = data_cleaned['Overall'].value_counts(normalize=True) * 100\n",
    "print(\"Mean Overall Satisfaction Score:\", overall_satisfaction)\n",
    "print(\"Overall Satisfaction Distribution:\\n\", overall_satisfaction_distribution)\n"
   ]
  },
  {
   "cell_type": "code",
   "execution_count": 11,
   "metadata": {
    "colab": {
     "base_uri": "https://localhost:8080/"
    },
    "executionInfo": {
     "elapsed": 417,
     "status": "ok",
     "timestamp": 1724667229685,
     "user": {
      "displayName": "Praveen Thennarasu",
      "userId": "17084518208793972242"
     },
     "user_tz": -330
    },
    "id": "jIpZO3zBLRI0",
    "outputId": "9835718f-bd43-43c1-8186-e38cb9b6ec5b"
   },
   "outputs": [
    {
     "name": "stdout",
     "output_type": "stream",
     "text": [
      "Correlation Matrix:\n",
      "            Sinage   Parking     Clean   Overall\n",
      "Sinage   1.000000  0.477380  0.348438  0.380801\n",
      "Parking  0.477380  1.000000  0.442839  0.517907\n",
      "Clean    0.348438  0.442839  1.000000  0.347257\n",
      "Overall  0.380801  0.517907  0.347257  1.000000\n"
     ]
    }
   ],
   "source": [
    "correlation_matrix = data_cleaned[['Sinage', 'Parking', 'Clean', 'Overall']].corr()\n",
    "print(\"Correlation Matrix:\\n\", correlation_matrix)\n"
   ]
  },
  {
   "cell_type": "code",
   "execution_count": 15,
   "metadata": {
    "colab": {
     "base_uri": "https://localhost:8080/"
    },
    "executionInfo": {
     "elapsed": 494,
     "status": "ok",
     "timestamp": 1724667363516,
     "user": {
      "displayName": "Praveen Thennarasu",
      "userId": "17084518208793972242"
     },
     "user_tz": -330
    },
    "id": "MOLlT3ccLXHm",
    "outputId": "0eefb31e-cc7e-41e8-96c6-85e48ab9e801"
   },
   "outputs": [
    {
     "name": "stdout",
     "output_type": "stream",
     "text": [
      "Demographic Profile:\n",
      " Gender  Marital_Status  Age  Income\n",
      "2       2               2.0  1.0       19.032258\n",
      "1       2               2.0  1.0        9.677419\n",
      "2       1               3.0  3.0        7.096774\n",
      "                             2.0        5.806452\n",
      "        2               2.0  2.0        5.483871\n",
      "                        3.0  1.0        5.161290\n",
      "                        2.0  3.0        5.161290\n",
      "1       1               3.0  3.0        4.516129\n",
      "        2               2.0  2.0        4.193548\n",
      "2       2               1.0  3.0        2.903226\n",
      "1       2               3.0  2.0        2.258065\n",
      "2       2               3.0  2.0        1.935484\n",
      "1       1               3.0  2.0        1.935484\n",
      "        2               2.0  3.0        1.612903\n",
      "        1               2.0  1.0        1.290323\n",
      "2       2               1.0  1.0        1.290323\n",
      "Male    Single          2.0  3.0        1.290323\n",
      "1       2               3.0  1.0        1.290323\n",
      "2       2               1.0  2.0        0.967742\n",
      "1       1               2.0  3.0        0.967742\n",
      "2       1               3.0  1.0        0.967742\n",
      "                        2.0  1.0        0.967742\n",
      "Male    Married         3.0  3.0        0.967742\n",
      "Female  Single          3.0  1.0        0.967742\n",
      "                        2.0  1.0        0.967742\n",
      "1       2               1.0  1.0        0.967742\n",
      "Male    Single          2.0  1.0        0.645161\n",
      "        Married         4.0  1.0        0.645161\n",
      "Female  Married         3.0  3.0        0.645161\n",
      "2       2               3.0  3.0        0.645161\n",
      "        1               2.0  2.0        0.645161\n",
      "1       2               3.0  3.0        0.645161\n",
      "        1               2.0  2.0        0.645161\n",
      "Female  Single          4.0  1.0        0.322581\n",
      "Male    Single          2.0  2.0        0.322581\n",
      "2       1               1.0  2.0        0.322581\n",
      "                        4.0  2.0        0.322581\n",
      "                             3.0        0.322581\n",
      "Male    Married         3.0  2.0        0.322581\n",
      "Female  Slngle          2.0  3.0        0.322581\n",
      "                             2.0        0.322581\n",
      "1       1               3.0  1.0        0.322581\n",
      "                        4.0  3.0        0.322581\n",
      "Female  Single          2.0  3.0        0.322581\n",
      "                        1.0  3.0        0.322581\n",
      "        Married         4.0  1.0        0.322581\n",
      "1       2               1.0  3.0        0.322581\n",
      "Female  Married         3.0  2.0        0.322581\n",
      "2       1               2.0  3.0        0.322581\n",
      "        2               4.0  1.0        0.322581\n",
      "Female  Married         3.0  1.0        0.322581\n",
      "Name: proportion, dtype: float64\n"
     ]
    },
    {
     "name": "stderr",
     "output_type": "stream",
     "text": [
      "<ipython-input-15-9c5e22db039a>:10: SettingWithCopyWarning: \n",
      "A value is trying to be set on a copy of a slice from a DataFrame.\n",
      "Try using .loc[row_indexer,col_indexer] = value instead\n",
      "\n",
      "See the caveats in the documentation: https://pandas.pydata.org/pandas-docs/stable/user_guide/indexing.html#returning-a-view-versus-a-copy\n",
      "  data_cleaned['Gender'] = data_cleaned['Gender'].astype(str)\n",
      "<ipython-input-15-9c5e22db039a>:11: SettingWithCopyWarning: \n",
      "A value is trying to be set on a copy of a slice from a DataFrame.\n",
      "Try using .loc[row_indexer,col_indexer] = value instead\n",
      "\n",
      "See the caveats in the documentation: https://pandas.pydata.org/pandas-docs/stable/user_guide/indexing.html#returning-a-view-versus-a-copy\n",
      "  data_cleaned['Marital_Status'] = data_cleaned['Marital_Status'].astype(str)\n",
      "<ipython-input-15-9c5e22db039a>:12: SettingWithCopyWarning: \n",
      "A value is trying to be set on a copy of a slice from a DataFrame.\n",
      "Try using .loc[row_indexer,col_indexer] = value instead\n",
      "\n",
      "See the caveats in the documentation: https://pandas.pydata.org/pandas-docs/stable/user_guide/indexing.html#returning-a-view-versus-a-copy\n",
      "  data_cleaned['Age'] = data_cleaned['Age'].astype(str)\n",
      "<ipython-input-15-9c5e22db039a>:13: SettingWithCopyWarning: \n",
      "A value is trying to be set on a copy of a slice from a DataFrame.\n",
      "Try using .loc[row_indexer,col_indexer] = value instead\n",
      "\n",
      "See the caveats in the documentation: https://pandas.pydata.org/pandas-docs/stable/user_guide/indexing.html#returning-a-view-versus-a-copy\n",
      "  data_cleaned['Income'] = data_cleaned['Income'].astype(str)\n"
     ]
    }
   ],
   "source": [
    "import pandas as pd\n",
    "\n",
    "# Load the data (make sure your path and data format are correct)\n",
    "data = pd.read_csv('Films.csv')\n",
    "\n",
    "# Clean the data (remove or fill missing values as needed)\n",
    "data_cleaned = data.dropna(subset=['Gender', 'Marital_Status', 'Age', 'Income'])\n",
    "\n",
    "# Convert categorical columns to string if they are not already\n",
    "data_cleaned['Gender'] = data_cleaned['Gender'].astype(str)\n",
    "data_cleaned['Marital_Status'] = data_cleaned['Marital_Status'].astype(str)\n",
    "data_cleaned['Age'] = data_cleaned['Age'].astype(str)\n",
    "data_cleaned['Income'] = data_cleaned['Income'].astype(str)\n",
    "\n",
    "# Calculate the demographic profile\n",
    "demographic_profile = data_cleaned[['Gender', 'Marital_Status', 'Age', 'Income']].value_counts(normalize=True) * 100\n",
    "\n",
    "print(\"Demographic Profile:\\n\", demographic_profile)\n"
   ]
  },
  {
   "cell_type": "code",
   "execution_count": 12,
   "metadata": {
    "colab": {
     "base_uri": "https://localhost:8080/"
    },
    "executionInfo": {
     "elapsed": 1566,
     "status": "ok",
     "timestamp": 1724667301997,
     "user": {
      "displayName": "Praveen Thennarasu",
      "userId": "17084518208793972242"
     },
     "user_tz": -330
    },
    "id": "yR8jeDeULZqQ",
    "outputId": "9df98f8e-e72e-4cca-f5f8-9e0ca66354f3"
   },
   "outputs": [
    {
     "name": "stdout",
     "output_type": "stream",
     "text": [
      "Media Outlet Effectiveness:\n",
      " Hear_About\n",
      "5      70.219436\n",
      "4      12.852665\n",
      "1       6.583072\n",
      "3       4.075235\n",
      "2       3.761755\n",
      "2,5     0.626959\n",
      "3,4     0.626959\n",
      "4,5     0.313480\n",
      "1,5     0.313480\n",
      "5,4     0.313480\n",
      "3,5     0.313480\n",
      "Name: proportion, dtype: float64\n"
     ]
    }
   ],
   "source": [
    "media_effectiveness = data_cleaned['Hear_About'].value_counts(normalize=True) * 100\n",
    "print(\"Media Outlet Effectiveness:\\n\", media_effectiveness)\n"
   ]
  },
  {
   "cell_type": "code",
   "execution_count": null,
   "metadata": {
    "id": "20RkN6cELdXs"
   },
   "outputs": [],
   "source": []
  }
 ],
 "metadata": {
  "colab": {
   "authorship_tag": "ABX9TyMAQWWz0uviJOhGIeUG+Ojp",
   "provenance": []
  },
  "kernelspec": {
   "display_name": "Python 3 (ipykernel)",
   "language": "python",
   "name": "python3"
  },
  "language_info": {
   "codemirror_mode": {
    "name": "ipython",
    "version": 3
   },
   "file_extension": ".py",
   "mimetype": "text/x-python",
   "name": "python",
   "nbconvert_exporter": "python",
   "pygments_lexer": "ipython3",
   "version": "3.12.4"
  }
 },
 "nbformat": 4,
 "nbformat_minor": 4
}
